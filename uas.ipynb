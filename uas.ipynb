{
 "cells": [
  {
   "cell_type": "code",
   "execution_count": 7,
   "metadata": {},
   "outputs": [
    {
     "name": "stdout",
     "output_type": "stream",
     "text": [
      "Masukan Jumlah Pada kolom : 3\n",
      "Masukan Jumlah Pada baris : 2\n",
      "Masukan Jumlah Angka  Berdasarkan Line :\n",
      "2 3 5 7 3 3\n",
      "[[2 3]\n",
      " [5 7]\n",
      " [3 3]]\n"
     ]
    }
   ],
   "source": [
    "import numpy as np\n",
    "R = int(input(\"Masukan Jumlah Pada kolom : \"))\n",
    "C = int(input(\"Masukan Jumlah Pada baris : \"))\n",
    "print(\"Masukan Jumlah Angka  Berdasarkan Line :\")\n",
    "\n",
    "entries = list(map(int, input().split()))\n",
    "\n",
    "matrix=np.array(entries).reshape(R,C)\n",
    "print(matrix)"
   ]
  },
  {
   "cell_type": "code",
   "execution_count": null,
   "metadata": {},
   "outputs": [],
   "source": []
  },
  {
   "cell_type": "code",
   "execution_count": null,
   "metadata": {},
   "outputs": [],
   "source": []
  }
 ],
 "metadata": {
  "kernelspec": {
   "display_name": "Python 3",
   "language": "python",
   "name": "python3"
  }
 },
 "nbformat": 4,
 "nbformat_minor": 4
}
